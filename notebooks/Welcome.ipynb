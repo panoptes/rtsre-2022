{
 "cells": [
  {
   "cell_type": "markdown",
   "metadata": {},
   "source": [
    "# **Welcome to the [PANOPTES workshop](https://rtsre.space/rtsre-workshops-2022/) for [RTSRE 2022](https://rtsre.space/)!**\n",
    "\n",
    "### Notebooks\n",
    "\n",
    "The notebooks are contained in the `notebooks` folder, along with a `helpers.py` file that is used by many of the notebooks.\n",
    "\n",
    "The following notebooks are available:\n",
    "\n",
    "| Notebook | Desc |\n",
    "|----------|------|\n",
    "| [Get Raw Images](Get%20Raw%20Images.ipynb) | Search for a particular observation, get image metadata and see how to download FITS files.\n",
    "| [Stack Observation](Stack%20Observation.ipynb) | Make a simple image stack from a cutout of the data.\n",
    "| [Horizon Limits](Horizon%20Obstruction%20Limits.ipynb) | Demonstrates how the PANOPTES scheduler tries to avoid objects on the horizon."
   ]
  }
 ],
 "metadata": {
  "language_info": {
   "name": "python"
  },
  "orig_nbformat": 4
 },
 "nbformat": 4,
 "nbformat_minor": 2
}
