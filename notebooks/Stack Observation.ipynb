{
 "cells": [
  {
   "cell_type": "code",
   "execution_count": null,
   "id": "compliant-relevance",
   "metadata": {},
   "outputs": [],
   "source": [
    "from matplotlib import pyplot as plt\n",
    "import pandas as pd\n",
    "import numpy as np\n",
    "import seaborn as sb\n",
    "import requests\n",
    "from tqdm.auto import tqdm\n",
    "from astropy.visualization import simple_norm\n",
    "from astropy.coordinates import SkyCoord\n",
    "\n",
    "from helpers import ObservationInfo, search_observations"
   ]
  },
  {
   "cell_type": "markdown",
   "id": "0a4bfd44-7e75-4868-9a99-b60fd2fe4698",
   "metadata": {},
   "source": [
    "# Search for observations\n",
    "\n",
    "Using a sky coordinate, search for all matching observations with a certain radius."
   ]
  },
  {
   "cell_type": "code",
   "execution_count": null,
   "id": "44988744-8e84-4a54-a50c-a9ab3b7bf05a",
   "metadata": {},
   "outputs": [],
   "source": [
    "search_coords = SkyCoord('18h 08m 30s +08d00m00s')\n",
    "search_coords = SkyCoord.from_name('M42')\n",
    "\n",
    "search_coords"
   ]
  },
  {
   "cell_type": "code",
   "execution_count": null,
   "id": "accessible-fountain",
   "metadata": {},
   "outputs": [],
   "source": [
    "search_results = search_observations(\n",
    "    coords=search_coords,\n",
    "    radius=10,\n",
    ")"
   ]
  },
  {
   "cell_type": "markdown",
   "id": "049c6524-0d02-42d6-ba72-f8acb3dd0fb8",
   "metadata": {},
   "source": [
    "# Select observation from list\n",
    "\n",
    "A `sequence_id` is used to explore observations. Here we randomly sample one observation to get the `sequence_id`."
   ]
  },
  {
   "cell_type": "code",
   "execution_count": null,
   "id": "cf45187b-5123-4a07-abbc-e1b9d455791f",
   "metadata": {},
   "outputs": [],
   "source": [
    "# Get the most recent (i.e. last) entry.\n",
    "record = search_results.iloc[-10]\n",
    "record.T"
   ]
  },
  {
   "cell_type": "code",
   "execution_count": null,
   "id": "29453b67-d99f-4a3c-8a62-1f769d10aebf",
   "metadata": {},
   "outputs": [],
   "source": [
    "sequence_id = record.sequence_id\n",
    "sequence_id"
   ]
  },
  {
   "cell_type": "code",
   "execution_count": null,
   "id": "0c6efea0-3a55-4fcd-9046-cab7ee0d12a5",
   "metadata": {},
   "outputs": [],
   "source": [
    "obs_info = ObservationInfo(sequence_id)"
   ]
  },
  {
   "cell_type": "code",
   "execution_count": null,
   "id": "00291448-cbf1-451c-8d64-0941ec65c435",
   "metadata": {},
   "outputs": [],
   "source": [
    "cutout_size = (250, 250)"
   ]
  },
  {
   "cell_type": "markdown",
   "id": "7751e212-8993-4ec5-b447-dd9dff4172a6",
   "metadata": {},
   "source": [
    "## Plot a single image\n",
    "\n",
    "We can retrieve the data for the image by using the `get_image_data` function using the index of the image from the `raw_images` list.\n",
    "\n",
    "An optional `coords` and `box_size` allow for cropping of the data as it is returned (the full data still travels over the network as of now).\n",
    "\n",
    "You can also retrieve the raw or processed data using the `use_raw=True` flag."
   ]
  },
  {
   "cell_type": "code",
   "execution_count": null,
   "id": "b41bda3b-9311-49d6-a591-d4c41cc3ee1f",
   "metadata": {},
   "outputs": [],
   "source": [
    "data0 = obs_info.get_image_data(idx=0, coords=search_coords, box_size=cutout_size, use_raw=True)\n",
    "\n",
    "ax = plt.subplot(projection=data0.wcs)\n",
    "\n",
    "norm = simple_norm(data0.data, 'sqrt', min_percent=5, max_percent=94)\n",
    "\n",
    "im = ax.imshow(data0.data, origin='lower', norm=norm, cmap='Greys_r')\n",
    "ax.figure.colorbar(im)\n",
    "ax.figure.set_size_inches(12, 8)\n",
    "\n",
    "plt.grid(color='white', ls='--', alpha=0.5);"
   ]
  },
  {
   "cell_type": "markdown",
   "id": "486b0c7b-51bf-43c0-bebf-178329ecb85b",
   "metadata": {},
   "source": [
    "We can perform this action in a loop to retrieve the same cutout for all the images in the observation.\n",
    "\n",
    "Below we fetch the data for all the images into a list and then plot a single frame (similar to above), a median stack, and summation of all the data."
   ]
  },
  {
   "cell_type": "code",
   "execution_count": null,
   "id": "5d92ce8d-4c7a-41d6-b48b-c555b9e70ec7",
   "metadata": {},
   "outputs": [],
   "source": [
    "stack_cutout = list()\n",
    "for i, img in tqdm(enumerate(obs_info.raw_images), total=len(obs_info.raw_images), desc='Fetching image cutouts'):\n",
    "    try:\n",
    "        stack_cutout.append(obs_info.get_image_data(\n",
    "            idx=i, \n",
    "            coords=search_coords, \n",
    "            box_size=cutout_size, \n",
    "            use_raw=True).data)\n",
    "    except Exception:\n",
    "        pass\n",
    "                        \n",
    "stack_cutout = np.array(stack_cutout)"
   ]
  },
  {
   "cell_type": "code",
   "execution_count": null,
   "id": "ed15ffae-24ad-4a9f-a68a-a709be93f543",
   "metadata": {},
   "outputs": [],
   "source": [
    "stack_cutout.shape"
   ]
  },
  {
   "cell_type": "code",
   "execution_count": null,
   "id": "da3016ab-c51d-42cd-ad32-818a16f570fe",
   "metadata": {},
   "outputs": [],
   "source": [
    "diffs = pd.DataFrame(stack_cutout.reshape(stack_cutout.shape[0], -1).astype('float')).diff().values.reshape(stack_cutout.shape[0], *cutout_size)[1:]"
   ]
  },
  {
   "cell_type": "code",
   "execution_count": null,
   "id": "5305722f-971e-4182-9ed0-f7350ef0e2c0",
   "metadata": {},
   "outputs": [],
   "source": [
    "stretch = 'sqrt'\n",
    "\n",
    "fig, axes = plt.subplots(ncols=2, nrows=2)\n",
    "\n",
    "types = {\n",
    "    'Single Frame': stack_cutout[0],\n",
    "    'Difference': np.median(diffs, 0),\n",
    "    'Median': np.median(stack_cutout, 0),\n",
    "    'Sum': stack_cutout.sum(0),\n",
    "}\n",
    "\n",
    "for i, (title, data) in enumerate(types.items()):\n",
    "    ax = axes.flatten()[i]\n",
    "    im = ax.imshow(data, norm=simple_norm(data, stretch, min_percent=10, max_percent=96), origin='lower', cmap='Greys_r')\n",
    "    fig.colorbar(im, ax=ax)\n",
    "    ax.set_title(title)\n",
    "    ax.axis('off')\n",
    "\n",
    "fig.set_dpi(100)\n",
    "fig.set_size_inches(13, 11)"
   ]
  }
 ],
 "metadata": {
  "environment": {
   "kernel": "python3",
   "name": "common-cpu.m92",
   "type": "gcloud",
   "uri": "gcr.io/deeplearning-platform-release/base-cpu:m92"
  },
  "kernelspec": {
   "display_name": "Python 3",
   "language": "python",
   "name": "python3"
  },
  "language_info": {
   "codemirror_mode": {
    "name": "ipython",
    "version": 3
   },
   "file_extension": ".py",
   "mimetype": "text/x-python",
   "name": "python",
   "nbconvert_exporter": "python",
   "pygments_lexer": "ipython3",
   "version": "3.7.12"
  }
 },
 "nbformat": 4,
 "nbformat_minor": 5
}
