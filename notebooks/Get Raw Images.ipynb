{
 "cells": [
  {
   "cell_type": "code",
   "execution_count": null,
   "id": "compliant-relevance",
   "metadata": {},
   "outputs": [],
   "source": [
    "import pandas as pd\n",
    "from astropy.coordinates import SkyCoord\n",
    "\n",
    "from helpers import ObservationInfo, search_observations"
   ]
  },
  {
   "cell_type": "markdown",
   "id": "0a4bfd44-7e75-4868-9a99-b60fd2fe4698",
   "metadata": {},
   "source": [
    "## Search for observations\n",
    "\n",
    "Using a sky coordinate, search for all matching observations with a certain radius."
   ]
  },
  {
   "cell_type": "code",
   "execution_count": null,
   "id": "44988744-8e84-4a54-a50c-a9ab3b7bf05a",
   "metadata": {},
   "outputs": [],
   "source": [
    "search_coords = SkyCoord.from_name('M42')\n",
    "search_coords"
   ]
  },
  {
   "cell_type": "code",
   "execution_count": null,
   "id": "accessible-fountain",
   "metadata": {},
   "outputs": [],
   "source": [
    "search_results = search_observations(\n",
    "    coords=search_coords,\n",
    "    radius=10,\n",
    "    min_num_images=5\n",
    ")"
   ]
  },
  {
   "cell_type": "code",
   "execution_count": null,
   "id": "79d4f75c",
   "metadata": {},
   "outputs": [],
   "source": [
    "# Show a random example (run this cell again to see a different entry)\n",
    "search_results.sample(1).T"
   ]
  },
  {
   "cell_type": "code",
   "execution_count": null,
   "id": "15340975",
   "metadata": {},
   "outputs": [],
   "source": [
    "# Show the firt and last five entries.\n",
    "search_results"
   ]
  },
  {
   "cell_type": "markdown",
   "id": "049c6524-0d02-42d6-ba72-f8acb3dd0fb8",
   "metadata": {},
   "source": [
    "## Select observation\n",
    "\n",
    "A `sequence_id` is used to explore observations. Here we take the most recent observation to get the `sequence_id`."
   ]
  },
  {
   "cell_type": "code",
   "execution_count": null,
   "id": "cf45187b-5123-4a07-abbc-e1b9d455791f",
   "metadata": {},
   "outputs": [],
   "source": [
    "# Get the most recent (i.e. last) entry.\n",
    "record = search_results.iloc[-1]\n",
    "record.T"
   ]
  },
  {
   "cell_type": "code",
   "execution_count": null,
   "id": "29453b67-d99f-4a3c-8a62-1f769d10aebf",
   "metadata": {},
   "outputs": [],
   "source": [
    "sequence_id = record.sequence_id\n",
    "sequence_id"
   ]
  },
  {
   "cell_type": "markdown",
   "id": "29f0d7c5",
   "metadata": {},
   "source": [
    "## Get Observation info"
   ]
  },
  {
   "cell_type": "code",
   "execution_count": null,
   "id": "0c6efea0-3a55-4fcd-9046-cab7ee0d12a5",
   "metadata": {},
   "outputs": [],
   "source": [
    "obs_info = ObservationInfo(sequence_id)"
   ]
  },
  {
   "cell_type": "code",
   "execution_count": null,
   "id": "997a6df6",
   "metadata": {},
   "outputs": [],
   "source": [
    "obs_info"
   ]
  },
  {
   "cell_type": "markdown",
   "id": "ec354b08",
   "metadata": {},
   "source": [
    "### Show example of the image metadata and how to save to file\n",
    "\n",
    "The metadata for each image is stored in the `obs_info.image_metadata` dataframe. \n",
    "\n",
    "We view a random example and then write the metadata to a file that can be downloaded in the file browser on the left."
   ]
  },
  {
   "cell_type": "code",
   "execution_count": null,
   "id": "61a50b55",
   "metadata": {},
   "outputs": [],
   "source": [
    "obs_info.image_metadata.sample(1)"
   ]
  },
  {
   "cell_type": "code",
   "execution_count": null,
   "id": "941b5fb8",
   "metadata": {},
   "outputs": [],
   "source": [
    "obs_info.image_metadata.to_csv(f'{obs_info.sequence_id}-image-metadata.csv')"
   ]
  },
  {
   "cell_type": "code",
   "execution_count": null,
   "id": "06a7a926",
   "metadata": {},
   "outputs": [],
   "source": [
    "# View top of file\n",
    "!head '{obs_info.sequence_id}-image-metadata.csv'"
   ]
  },
  {
   "cell_type": "markdown",
   "id": "4cdd5675",
   "metadata": {},
   "source": [
    "### Write image list to a CSV file, use `wget` to download\n",
    "\n",
    "This first creates a DataFrame then immediately writes that to a CSV file. There are many ways to accomplish this but this is an easy way.\n",
    "\n",
    "We then view the last few lines of the file using the command line tool `tail` called in a cell with the `!` operator.\n",
    "\n",
    "We then use the same `!` operator to call `wget` in the shell and download a list of files. Note that you can just copy the CSV file to your computer or server and use the `wget -i <filename.txt>` command to download all the files. **Note that this can be a lot of data!**"
   ]
  },
  {
   "cell_type": "code",
   "execution_count": null,
   "id": "bd398c3c",
   "metadata": {},
   "outputs": [],
   "source": [
    "# Create a dataframe and then write it to a CSV file.\n",
    "pd.DataFrame(obs_info.get_image_list()).to_csv(f'{obs_info.sequence_id}-raw.txt', index=False, header=False)"
   ]
  },
  {
   "cell_type": "code",
   "execution_count": null,
   "id": "7f8b8033",
   "metadata": {},
   "outputs": [],
   "source": [
    "# View the last entries in the file.\n",
    "!tail {obs_info.sequence_id}-raw.txt"
   ]
  },
  {
   "cell_type": "markdown",
   "id": "382b0b1d",
   "metadata": {},
   "source": [
    "#### Download the data"
   ]
  },
  {
   "cell_type": "code",
   "execution_count": null,
   "id": "8247bb56",
   "metadata": {},
   "outputs": [],
   "source": [
    "### Uncomment to run ###\n",
    "# !wget -i {obs_info.sequence_id}-raw.txt"
   ]
  }
 ],
 "metadata": {
  "environment": {
   "kernel": "python3",
   "name": "common-cpu.m92",
   "type": "gcloud",
   "uri": "gcr.io/deeplearning-platform-release/base-cpu:m92"
  },
  "kernelspec": {
   "display_name": "Python 3",
   "language": "python",
   "name": "python3"
  },
  "language_info": {
   "codemirror_mode": {
    "name": "ipython",
    "version": 3
   },
   "file_extension": ".py",
   "mimetype": "text/x-python",
   "name": "python",
   "nbconvert_exporter": "python",
   "pygments_lexer": "ipython3",
   "version": "3.7.12"
  }
 },
 "nbformat": 4,
 "nbformat_minor": 5
}
