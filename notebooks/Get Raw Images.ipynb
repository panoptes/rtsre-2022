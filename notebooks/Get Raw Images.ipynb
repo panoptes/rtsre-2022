{
 "cells": [
  {
   "cell_type": "code",
   "execution_count": null,
   "id": "compliant-relevance",
   "metadata": {},
   "outputs": [],
   "source": [
    "import pandas as pd\n",
    "from itables import show as show_df\n",
    "from astropy.coordinates import SkyCoord\n",
    "\n",
    "from helpers import ObservationInfo, search_observations"
   ]
  },
  {
   "cell_type": "markdown",
   "id": "0a4bfd44-7e75-4868-9a99-b60fd2fe4698",
   "metadata": {},
   "source": [
    "# Search for observations\n",
    "\n",
    "Using a sky coordinate, search for all matching observations with a certain radius."
   ]
  },
  {
   "cell_type": "code",
   "execution_count": null,
   "id": "44988744-8e84-4a54-a50c-a9ab3b7bf05a",
   "metadata": {},
   "outputs": [],
   "source": [
    "search_coords = SkyCoord.from_name('M42')\n",
    "search_coords"
   ]
  },
  {
   "cell_type": "code",
   "execution_count": null,
   "id": "accessible-fountain",
   "metadata": {},
   "outputs": [],
   "source": [
    "search_results = search_observations(\n",
    "    coords=search_coords,\n",
    "    radius=10,\n",
    "    min_num_images=5\n",
    ")"
   ]
  },
  {
   "cell_type": "code",
   "execution_count": null,
   "id": "79d4f75c",
   "metadata": {},
   "outputs": [],
   "source": [
    "show_df(search_results)"
   ]
  },
  {
   "cell_type": "markdown",
   "id": "049c6524-0d02-42d6-ba72-f8acb3dd0fb8",
   "metadata": {},
   "source": [
    "# Select observation from list\n",
    "\n",
    "A `sequence_id` is used to explore observations. Here we randomly sample one observation to get the `sequence_id`."
   ]
  },
  {
   "cell_type": "code",
   "execution_count": null,
   "id": "cf45187b-5123-4a07-abbc-e1b9d455791f",
   "metadata": {},
   "outputs": [],
   "source": [
    "# Get the most recent (i.e. last) entry.\n",
    "record = search_results.iloc[-1]\n",
    "record.T"
   ]
  },
  {
   "cell_type": "code",
   "execution_count": null,
   "id": "29453b67-d99f-4a3c-8a62-1f769d10aebf",
   "metadata": {},
   "outputs": [],
   "source": [
    "sequence_id = record.sequence_id\n",
    "sequence_id"
   ]
  },
  {
   "cell_type": "code",
   "execution_count": null,
   "id": "0c6efea0-3a55-4fcd-9046-cab7ee0d12a5",
   "metadata": {},
   "outputs": [],
   "source": [
    "obs_info = ObservationInfo(sequence_id)"
   ]
  },
  {
   "cell_type": "code",
   "execution_count": null,
   "id": "e073d5ef",
   "metadata": {},
   "outputs": [],
   "source": [
    "obs_info.raw_images"
   ]
  }
 ],
 "metadata": {
  "environment": {
   "kernel": "python3",
   "name": "common-cpu.m92",
   "type": "gcloud",
   "uri": "gcr.io/deeplearning-platform-release/base-cpu:m92"
  },
  "kernelspec": {
   "display_name": "Python 3",
   "language": "python",
   "name": "python3"
  },
  "language_info": {
   "codemirror_mode": {
    "name": "ipython",
    "version": 3
   },
   "file_extension": ".py",
   "mimetype": "text/x-python",
   "name": "python",
   "nbconvert_exporter": "python",
   "pygments_lexer": "ipython3",
   "version": "3.7.12"
  }
 },
 "nbformat": 4,
 "nbformat_minor": 5
}
